{
 "cells": [
  {
   "cell_type": "code",
   "execution_count": 1,
   "id": "da42a5b4",
   "metadata": {},
   "outputs": [],
   "source": [
    "import os"
   ]
  },
  {
   "cell_type": "code",
   "execution_count": 2,
   "id": "1688a1b8",
   "metadata": {},
   "outputs": [],
   "source": [
    "def mkdir(p):\n",
    "   if not os.path.exists(p):\n",
    "        os.mkdir(p)\n",
    "\n",
    "def link(src,dst):\n",
    "    if not os.path.exists(dst):\n",
    "        os.symlink(src,dst,target_is_directory=True)"
   ]
  },
  {
   "cell_type": "code",
   "execution_count": 3,
   "id": "20fb8269",
   "metadata": {},
   "outputs": [],
   "source": [
    "classes=[\n",
    "    'angry',\n",
    "    'disgust',\n",
    "    'fear',\n",
    "    'happy',\n",
    "    'neutral',\n",
    "    'sad',\n",
    "    'surprise'\n",
    "]"
   ]
  },
  {
   "cell_type": "code",
   "execution_count": 4,
   "id": "34c85671",
   "metadata": {},
   "outputs": [],
   "source": [
    "train_path_from = os.path.abspath('C:/Users/Elie/Downloads/facial_emotions/train')"
   ]
  },
  {
   "cell_type": "code",
   "execution_count": 5,
   "id": "f0172b76",
   "metadata": {},
   "outputs": [],
   "source": [
    "valid_path_from = os.path.abspath('C:/Users/Elie/Downloads/facial_emotions/test')"
   ]
  },
  {
   "cell_type": "code",
   "execution_count": 6,
   "id": "c1df5704",
   "metadata": {},
   "outputs": [],
   "source": [
    "train_path_to = os.path.abspath('C:/Users/Elie/Downloads/facial_emotions/training')\n",
    "valid_path_to = os.path.abspath('C:/Users/Elie/Downloads/facial_emotions/validation')"
   ]
  },
  {
   "cell_type": "code",
   "execution_count": 7,
   "id": "73389b5f",
   "metadata": {},
   "outputs": [],
   "source": [
    "mkdir(train_path_to)\n",
    "mkdir(valid_path_to)"
   ]
  },
  {
   "cell_type": "code",
   "execution_count": 8,
   "id": "538a71ea",
   "metadata": {},
   "outputs": [
    {
     "name": "stdout",
     "output_type": "stream",
     "text": [
      "angry\n",
      "disgust\n",
      "fear\n",
      "happy\n",
      "neutral\n",
      "sad\n",
      "surprise\n"
     ]
    }
   ],
   "source": [
    "for c in classes:\n",
    "    print(c)"
   ]
  },
  {
   "cell_type": "code",
   "execution_count": 9,
   "id": "c65b38ed",
   "metadata": {},
   "outputs": [],
   "source": [
    "for c in classes:\n",
    "    link(train_path_from + '/' + c, train_path_to + '/' + c)\n",
    "    link(valid_path_from +'/' + c, valid_path_to + '/' + c)"
   ]
  },
  {
   "cell_type": "code",
   "execution_count": 47,
   "id": "8a4444f0",
   "metadata": {},
   "outputs": [],
   "source": [
    "from tensorflow.keras.models import Model, Sequential\n",
    "from tensorflow.keras.layers import Input, Dense, Flatten\n",
    "\n",
    "from tensorflow.keras.applications.vgg16 import VGG16, preprocess_input\n",
    "\n",
    "from tensorflow.keras.preprocessing import image\n",
    "from tensorflow.keras.preprocessing.image import ImageDataGenerator\n",
    "\n",
    "from sklearn.metrics import confusion_matrix\n",
    "import numpy as np\n",
    "import matplotlib.pyplot as plt\n",
    "\n",
    "from glob import glob"
   ]
  },
  {
   "cell_type": "code",
   "execution_count": 11,
   "id": "9161311f",
   "metadata": {},
   "outputs": [],
   "source": [
    "TRAIN_PATH = os.path.abspath('C:/Users/Elie/Downloads/facial_emotions/training')\n",
    "TEST_PATH = os.path.abspath('C:/Users/Elie/Downloads/facial_emotions/validation')"
   ]
  },
  {
   "cell_type": "code",
   "execution_count": 36,
   "id": "5a77a30b",
   "metadata": {},
   "outputs": [],
   "source": [
    "IMAGE_SIZE = [100, 100]\n",
    "BATCH_SIZE = 32\n",
    "EPOCHS = 5"
   ]
  },
  {
   "cell_type": "code",
   "execution_count": 13,
   "id": "28a49bcc",
   "metadata": {},
   "outputs": [],
   "source": [
    "train_image_files = glob(TRAIN_PATH + '/*/*.jp*g')\n",
    "valid_image_files = glob(TEST_PATH + '/*/*.jp*g')"
   ]
  },
  {
   "cell_type": "code",
   "execution_count": 14,
   "id": "914b6bb9",
   "metadata": {},
   "outputs": [
    {
     "data": {
      "text/plain": [
       "['C:\\\\Users\\\\Elie\\\\Downloads\\\\facial_emotions\\\\training\\\\angry',\n",
       " 'C:\\\\Users\\\\Elie\\\\Downloads\\\\facial_emotions\\\\training\\\\disgust',\n",
       " 'C:\\\\Users\\\\Elie\\\\Downloads\\\\facial_emotions\\\\training\\\\fear',\n",
       " 'C:\\\\Users\\\\Elie\\\\Downloads\\\\facial_emotions\\\\training\\\\happy',\n",
       " 'C:\\\\Users\\\\Elie\\\\Downloads\\\\facial_emotions\\\\training\\\\neutral',\n",
       " 'C:\\\\Users\\\\Elie\\\\Downloads\\\\facial_emotions\\\\training\\\\sad',\n",
       " 'C:\\\\Users\\\\Elie\\\\Downloads\\\\facial_emotions\\\\training\\\\surprise']"
      ]
     },
     "execution_count": 14,
     "metadata": {},
     "output_type": "execute_result"
    }
   ],
   "source": [
    "folders = glob(TRAIN_PATH +\"/*\")\n",
    "folders"
   ]
  },
  {
   "cell_type": "code",
   "execution_count": 15,
   "id": "1903750a",
   "metadata": {},
   "outputs": [
    {
     "data": {
      "text/plain": [
       "<matplotlib.image.AxesImage at 0x212d1de2c70>"
      ]
     },
     "execution_count": 15,
     "metadata": {},
     "output_type": "execute_result"
    },
    {
     "data": {
      "image/png": "[encoded data removed]",
      "text/plain": [
       "<Figure size 640x480 with 1 Axes>"
      ]
     },
     "metadata": {},
     "output_type": "display_data"
    }
   ],
   "source": [
    "plt.imshow(image.load_img(np.random.choice(train_image_files)))"
   ]
  },
  {
   "cell_type": "code",
   "execution_count": 16,
   "id": "070bbc88",
   "metadata": {},
   "outputs": [],
   "source": [
    "model = VGG16(input_shape=IMAGE_SIZE +[3],\n",
    "      weights=\"imagenet\", include_top = False)"
   ]
  },
  {
   "cell_type": "code",
   "execution_count": 17,
   "id": "f9f46d37",
   "metadata": {},
   "outputs": [
    {
     "name": "stdout",
     "output_type": "stream",
     "text": [
      "Model: \"vgg16\"\n",
      "_________________________________________________________________\n",
      " Layer (type)                Output Shape              Param #   \n",
      "=================================================================\n",
      " input_1 (InputLayer)        [(None, 100, 100, 3)]     0         \n",
      "                                                                 \n",
      " block1_conv1 (Conv2D)       (None, 100, 100, 64)      1792      \n",
      "                                                                 \n",
      " block1_conv2 (Conv2D)       (None, 100, 100, 64)      36928     \n",
      "                                                                 \n",
      " block1_pool (MaxPooling2D)  (None, 50, 50, 64)        0         \n",
      "                                                                 \n",
      " block2_conv1 (Conv2D)       (None, 50, 50, 128)       73856     \n",
      "                                                                 \n",
      " block2_conv2 (Conv2D)       (None, 50, 50, 128)       147584    \n",
      "                                                                 \n",
      " block2_pool (MaxPooling2D)  (None, 25, 25, 128)       0         \n",
      "                                                                 \n",
      " block3_conv1 (Conv2D)       (None, 25, 25, 256)       295168    \n",
      "                                                                 \n",
      " block3_conv2 (Conv2D)       (None, 25, 25, 256)       590080    \n",
      "                                                                 \n",
      " block3_conv3 (Conv2D)       (None, 25, 25, 256)       590080    \n",
      "                                                                 \n",
      " block3_pool (MaxPooling2D)  (None, 12, 12, 256)       0         \n",
      "                                                                 \n",
      " block4_conv1 (Conv2D)       (None, 12, 12, 512)       1180160   \n",
      "                                                                 \n",
      " block4_conv2 (Conv2D)       (None, 12, 12, 512)       2359808   \n",
      "                                                                 \n",
      " block4_conv3 (Conv2D)       (None, 12, 12, 512)       2359808   \n",
      "                                                                 \n",
      " block4_pool (MaxPooling2D)  (None, 6, 6, 512)         0         \n",
      "                                                                 \n",
      " block5_conv1 (Conv2D)       (None, 6, 6, 512)         2359808   \n",
      "                                                                 \n",
      " block5_conv2 (Conv2D)       (None, 6, 6, 512)         2359808   \n",
      "                                                                 \n",
      " block5_conv3 (Conv2D)       (None, 6, 6, 512)         2359808   \n",
      "                                                                 \n",
      " block5_pool (MaxPooling2D)  (None, 3, 3, 512)         0         \n",
      "                                                                 \n",
      "=================================================================\n",
      "Total params: 14,714,688\n",
      "Trainable params: 14,714,688\n",
      "Non-trainable params: 0\n",
      "_________________________________________________________________\n"
     ]
    }
   ],
   "source": [
    "model.summary()"
   ]
  },
  {
   "cell_type": "code",
   "execution_count": 18,
   "id": "3cf65656",
   "metadata": {},
   "outputs": [
    {
     "data": {
      "text/plain": [
       "<KerasTensor: shape=(None, 3, 3, 512) dtype=float32 (created by layer 'block5_pool')>"
      ]
     },
     "execution_count": 18,
     "metadata": {},
     "output_type": "execute_result"
    }
   ],
   "source": [
    "model.output"
   ]
  },
  {
   "cell_type": "code",
   "execution_count": 19,
   "id": "589c554f",
   "metadata": {},
   "outputs": [],
   "source": [
    "x = Flatten()(model.output)"
   ]
  },
  {
   "cell_type": "code",
   "execution_count": 20,
   "id": "bbfbac79",
   "metadata": {},
   "outputs": [],
   "source": [
    "prediction = Dense(len(folders), activation = 'softmax')(x)"
   ]
  },
  {
   "cell_type": "code",
   "execution_count": 21,
   "id": "394685e4",
   "metadata": {},
   "outputs": [
    {
     "data": {
      "text/plain": [
       "7"
      ]
     },
     "execution_count": 21,
     "metadata": {},
     "output_type": "execute_result"
    }
   ],
   "source": [
    "len(folders)"
   ]
  },
  {
   "cell_type": "code",
   "execution_count": 22,
   "id": "f561c4fa",
   "metadata": {},
   "outputs": [
    {
     "data": {
      "text/plain": [
       "<KerasTensor: shape=(None, 100, 100, 3) dtype=float32 (created by layer 'input_1')>"
      ]
     },
     "execution_count": 22,
     "metadata": {},
     "output_type": "execute_result"
    }
   ],
   "source": [
    "model.input"
   ]
  },
  {
   "cell_type": "code",
   "execution_count": 23,
   "id": "e030697a",
   "metadata": {},
   "outputs": [],
   "source": [
    "model = Model(inputs= model.input, outputs=prediction)"
   ]
  },
  {
   "cell_type": "code",
   "execution_count": 24,
   "id": "07cd2981",
   "metadata": {},
   "outputs": [
    {
     "name": "stdout",
     "output_type": "stream",
     "text": [
      "Model: \"model\"\n",
      "_________________________________________________________________\n",
      " Layer (type)                Output Shape              Param #   \n",
      "=================================================================\n",
      " input_1 (InputLayer)        [(None, 100, 100, 3)]     0         \n",
      "                                                                 \n",
      " block1_conv1 (Conv2D)       (None, 100, 100, 64)      1792      \n",
      "                                                                 \n",
      " block1_conv2 (Conv2D)       (None, 100, 100, 64)      36928     \n",
      "                                                                 \n",
      " block1_pool (MaxPooling2D)  (None, 50, 50, 64)        0         \n",
      "                                                                 \n",
      " block2_conv1 (Conv2D)       (None, 50, 50, 128)       73856     \n",
      "                                                                 \n",
      " block2_conv2 (Conv2D)       (None, 50, 50, 128)       147584    \n",
      "                                                                 \n",
      " block2_pool (MaxPooling2D)  (None, 25, 25, 128)       0         \n",
      "                                                                 \n",
      " block3_conv1 (Conv2D)       (None, 25, 25, 256)       295168    \n",
      "                                                                 \n",
      " block3_conv2 (Conv2D)       (None, 25, 25, 256)       590080    \n",
      "                                                                 \n",
      " block3_conv3 (Conv2D)       (None, 25, 25, 256)       590080    \n",
      "                                                                 \n",
      " block3_pool (MaxPooling2D)  (None, 12, 12, 256)       0         \n",
      "                                                                 \n",
      " block4_conv1 (Conv2D)       (None, 12, 12, 512)       1180160   \n",
      "                                                                 \n",
      " block4_conv2 (Conv2D)       (None, 12, 12, 512)       2359808   \n",
      "                                                                 \n",
      " block4_conv3 (Conv2D)       (None, 12, 12, 512)       2359808   \n",
      "                                                                 \n",
      " block4_pool (MaxPooling2D)  (None, 6, 6, 512)         0         \n",
      "                                                                 \n",
      " block5_conv1 (Conv2D)       (None, 6, 6, 512)         2359808   \n",
      "                                                                 \n",
      " block5_conv2 (Conv2D)       (None, 6, 6, 512)         2359808   \n",
      "                                                                 \n",
      " block5_conv3 (Conv2D)       (None, 6, 6, 512)         2359808   \n",
      "                                                                 \n",
      " block5_pool (MaxPooling2D)  (None, 3, 3, 512)         0         \n",
      "                                                                 \n",
      " flatten (Flatten)           (None, 4608)              0         \n",
      "                                                                 \n",
      " dense (Dense)               (None, 7)                 32263     \n",
      "                                                                 \n",
      "=================================================================\n",
      "Total params: 14,746,951\n",
      "Trainable params: 14,746,951\n",
      "Non-trainable params: 0\n",
      "_________________________________________________________________\n"
     ]
    }
   ],
   "source": [
    "model.summary()"
   ]
  },
  {
   "cell_type": "code",
   "execution_count": 25,
   "id": "2e69a993",
   "metadata": {},
   "outputs": [],
   "source": [
    "model.compile(loss='categorical_crossentropy', optimizer='rmsprop', metrics=['accuracy'])"
   ]
  },
  {
   "cell_type": "code",
   "execution_count": 26,
   "id": "70379785",
   "metadata": {},
   "outputs": [],
   "source": [
    "dataset_generator = ImageDataGenerator(\n",
    "    rotation_range=20,\n",
    "    width_shift_range=0.1,\n",
    "    height_shift_range=0.1,\n",
    "    shear_range=0.2,\n",
    "    zoom_range=0.2,\n",
    "    horizontal_flip=True,\n",
    "    vertical_flip=True,\n",
    "    preprocessing_function=preprocess_input\n",
    "    )"
   ]
  },
  {
   "cell_type": "code",
   "execution_count": 27,
   "id": "958f4a88",
   "metadata": {},
   "outputs": [
    {
     "data": {
      "text/plain": [
       "<function keras.applications.vgg16.preprocess_input(x, data_format=None)>"
      ]
     },
     "execution_count": 27,
     "metadata": {},
     "output_type": "execute_result"
    }
   ],
   "source": [
    "preprocess_input"
   ]
  },
  {
   "cell_type": "code",
   "execution_count": 28,
   "id": "01330239",
   "metadata": {},
   "outputs": [
    {
     "name": "stdout",
     "output_type": "stream",
     "text": [
      "Found 7178 images belonging to 7 classes.\n"
     ]
    }
   ],
   "source": [
    "test_gen = dataset_generator.flow_from_directory(TEST_PATH,target_size=IMAGE_SIZE, batch_size= BATCH_SIZE)"
   ]
  },
  {
   "cell_type": "code",
   "execution_count": 29,
   "id": "8db25522",
   "metadata": {},
   "outputs": [
    {
     "data": {
      "text/plain": [
       "{'angry': 0,\n",
       " 'disgust': 1,\n",
       " 'fear': 2,\n",
       " 'happy': 3,\n",
       " 'neutral': 4,\n",
       " 'sad': 5,\n",
       " 'surprise': 6}"
      ]
     },
     "execution_count": 29,
     "metadata": {},
     "output_type": "execute_result"
    }
   ],
   "source": [
    "test_gen.class_indices"
   ]
  },
  {
   "cell_type": "code",
   "execution_count": 30,
   "id": "5eb141e6",
   "metadata": {},
   "outputs": [
    {
     "data": {
      "text/plain": [
       "['angry', 'disgust', 'fear', 'happy', 'neutral', 'sad', 'surprise']"
      ]
     },
     "execution_count": 30,
     "metadata": {},
     "output_type": "execute_result"
    }
   ],
   "source": [
    "labels = list(test_gen.class_indices.keys())\n",
    "labels"
   ]
  },
  {
   "cell_type": "code",
   "execution_count": 31,
   "id": "0c341f6c",
   "metadata": {},
   "outputs": [
    {
     "name": "stderr",
     "output_type": "stream",
     "text": [
      "Clipping input data to the valid range for imshow with RGB data ([0..1] for floats or [0..255] for integers).\n"
     ]
    },
    {
     "name": "stdout",
     "output_type": "stream",
     "text": [
      "min: -117.68000030517578, max: 151.06100463867188\n"
     ]
    },
    {
     "data": {
      "image/png": "[encoded data removed]",
      "text/plain": [
       "<Figure size 640x480 with 1 Axes>"
      ]
     },
     "metadata": {},
     "output_type": "display_data"
    }
   ],
   "source": [
    "for x,y in test_gen:\n",
    "    print(f\"min: {x[0].min()}, max: {x[0].max()}\")\n",
    "    plt.title(labels[np.argmax(y[0])])\n",
    "    plt.imshow(x[0])\n",
    "    plt.show()\n",
    "    break"
   ]
  },
  {
   "cell_type": "code",
   "execution_count": 32,
   "id": "3cd3df4b",
   "metadata": {},
   "outputs": [
    {
     "name": "stderr",
     "output_type": "stream",
     "text": [
      "C:\\Users\\Elie\\anaconda3\\lib\\site-packages\\seaborn\\_decorators.py:36: FutureWarning: Pass the following variable as a keyword arg: x. From version 0.12, the only valid positional argument will be `data`, and passing other arguments without an explicit keyword will result in an error or misinterpretation.\n",
      "  warnings.warn(\n"
     ]
    },
    {
     "data": {
      "text/plain": [
       "<AxesSubplot:ylabel='count'>"
      ]
     },
     "execution_count": 32,
     "metadata": {},
     "output_type": "execute_result"
    },
    {
     "data": {
      "image/png": "[encoded data removed]",
      "text/plain": [
       "<Figure size 640x480 with 1 Axes>"
      ]
     },
     "metadata": {},
     "output_type": "display_data"
    }
   ],
   "source": [
    "import seaborn as sns\n",
    "sns.countplot(test_gen.classes)"
   ]
  },
  {
   "cell_type": "code",
   "execution_count": 33,
   "id": "87569570",
   "metadata": {},
   "outputs": [
    {
     "name": "stdout",
     "output_type": "stream",
     "text": [
      "Found 28709 images belonging to 7 classes.\n"
     ]
    }
   ],
   "source": [
    "train_generator = dataset_generator.flow_from_directory(\n",
    "    TRAIN_PATH,\n",
    "    target_size=IMAGE_SIZE,\n",
    "    shuffle=True,\n",
    "    batch_size = BATCH_SIZE,\n",
    "    class_mode=\"categorical\")"
   ]
  },
  {
   "cell_type": "code",
   "execution_count": 34,
   "id": "c63d50c2",
   "metadata": {},
   "outputs": [
    {
     "name": "stdout",
     "output_type": "stream",
     "text": [
      "Found 7178 images belonging to 7 classes.\n"
     ]
    }
   ],
   "source": [
    "valid_generator = dataset_generator.flow_from_directory(\n",
    "    TEST_PATH,\n",
    "    target_size=IMAGE_SIZE,\n",
    "    shuffle=True,\n",
    "    batch_size = BATCH_SIZE,\n",
    "    class_mode=\"categorical\")"
   ]
  },
  {
   "cell_type": "code",
   "execution_count": 37,
   "id": "7e7dce2b",
   "metadata": {},
   "outputs": [
    {
     "name": "stdout",
     "output_type": "stream",
     "text": [
      "Epoch 1/5\n",
      "897/897 [==============================] - 7529s 8s/step - loss: 1.8915 - accuracy: 0.2420 - val_loss: 1.7739 - val_accuracy: 0.2620\n",
      "Epoch 2/5\n",
      "897/897 [==============================] - 28885s 32s/step - loss: 1.7553 - accuracy: 0.2820 - val_loss: 1.7037 - val_accuracy: 0.2903\n",
      "Epoch 3/5\n",
      "897/897 [==============================] - 6249s 7s/step - loss: 1.7012 - accuracy: 0.3054 - val_loss: 1.6381 - val_accuracy: 0.3471\n",
      "Epoch 4/5\n",
      "897/897 [==============================] - 6517s 7s/step - loss: 1.6293 - accuracy: 0.3593 - val_loss: 1.5741 - val_accuracy: 0.3846\n",
      "Epoch 5/5\n",
      "897/897 [==============================] - 6187s 7s/step - loss: 1.5741 - accuracy: 0.3831 - val_loss: 1.5280 - val_accuracy: 0.4035\n"
     ]
    }
   ],
   "source": [
    "history = model.fit(train_generator,\n",
    "                    validation_data = valid_generator,\n",
    "                    epochs= EPOCHS,\n",
    "                    steps_per_epoch= len(train_image_files)//BATCH_SIZE,\n",
    "                    validation_steps = len(valid_image_files)//BATCH_SIZE)"
   ]
  },
  {
   "cell_type": "code",
   "execution_count": 38,
   "id": "ce4701a7",
   "metadata": {},
   "outputs": [
    {
     "name": "stdout",
     "output_type": "stream",
     "text": [
      "225/225 [==============================] - 470s 2s/step - loss: 1.5223 - accuracy: 0.4097\n"
     ]
    },
    {
     "data": {
      "text/plain": [
       "[1.5223127603530884, 0.4097241461277008]"
      ]
     },
     "execution_count": 38,
     "metadata": {},
     "output_type": "execute_result"
    }
   ],
   "source": [
    "model.evaluate(valid_generator)\n"
   ]
  },
  {
   "cell_type": "code",
   "execution_count": 55,
   "id": "5baaca45",
   "metadata": {},
   "outputs": [],
   "source": [
    "img_path = np.random.choice(valid_image_files)\n",
    "img = image.load_img(img_path, target_size=IMAGE_SIZE)"
   ]
  },
  {
   "cell_type": "code",
   "execution_count": 57,
   "id": "6802be10",
   "metadata": {},
   "outputs": [],
   "source": [
    "img_array = image.img_to_array(img)\n",
    "img_array = np.expand_dims(img_array, axis=0)"
   ]
  },
  {
   "cell_type": "code",
   "execution_count": 58,
   "id": "8356a666",
   "metadata": {},
   "outputs": [
    {
     "name": "stdout",
     "output_type": "stream",
     "text": [
      "1/1 [==============================] - 0s 357ms/step\n"
     ]
    }
   ],
   "source": [
    "prediction = model.predict(img_array)[0]\n",
    "predicted_label_index = np.argmax(prediction)\n",
    "predicted_label = labels[predicted_label_index]"
   ]
  },
  {
   "cell_type": "code",
   "execution_count": 60,
   "id": "871b0ed7",
   "metadata": {},
   "outputs": [
    {
     "name": "stdout",
     "output_type": "stream",
     "text": [
      "Found 7178 images belonging to 7 classes.\n"
     ]
    }
   ],
   "source": [
    "valid_datagen = ImageDataGenerator(rescale=1./255)\n",
    "valid_gen = valid_datagen.flow_from_directory(\n",
    "    directory=TEST_PATH,\n",
    "    target_size=IMAGE_SIZE,\n",
    "    batch_size=BATCH_SIZE,\n",
    "    class_mode='categorical',\n",
    "    shuffle=False\n",
    ")"
   ]
  },
  {
   "cell_type": "code",
   "execution_count": 62,
   "id": "3b10871a",
   "metadata": {},
   "outputs": [
    {
     "data": {
      "image/png": "[encoded data removed]",
      "text/plain": [
       "<Figure size 640x480 with 1 Axes>"
      ]
     },
     "metadata": {},
     "output_type": "display_data"
    }
   ],
   "source": [
    "original_label_index = valid_gen.classes[valid_gen.filepaths.index(img_path)]\n",
    "original_label = labels[original_label_index]\n",
    "plt.imshow(img)\n",
    "plt.title(f\"Predicted label: {predicted_label}\\nOriginal label: {original_label}\")\n",
    "plt.axis(\"off\")\n",
    "plt.show()"
   ]
  },
  {
   "cell_type": "code",
   "execution_count": 79,
   "id": "accdcffb",
   "metadata": {},
   "outputs": [
    {
     "name": "stdout",
     "output_type": "stream",
     "text": [
      "1/1 [==============================] - 0s 287ms/step\n"
     ]
    },
    {
     "data": {
      "image/png": "[encoded data removed]",
      "text/plain": [
       "<Figure size 640x480 with 1 Axes>"
      ]
     },
     "metadata": {},
     "output_type": "display_data"
    }
   ],
   "source": [
    "img_path = np.random.choice(valid_image_files)\n",
    "img = image.load_img(img_path, target_size=IMAGE_SIZE)\n",
    "img_array = image.img_to_array(img)\n",
    "img_array = np.expand_dims(img_array, axis=0)\n",
    "prediction = model.predict(img_array)[0]\n",
    "predicted_label_index = np.argmax(prediction)\n",
    "predicted_label = labels[predicted_label_index]\n",
    "original_label_index = valid_gen.classes[valid_gen.filepaths.index(img_path)]\n",
    "original_label = labels[original_label_index]\n",
    "plt.imshow(img)\n",
    "plt.title(f\"Predicted label: {predicted_label}\\nOriginal label: {original_label}\")\n",
    "plt.axis(\"off\")\n",
    "plt.show()"
   ]
  },
  {
   "cell_type": "code",
   "execution_count": 81,
   "id": "01122d94",
   "metadata": {},
   "outputs": [
    {
     "name": "stderr",
     "output_type": "stream",
     "text": [
      "WARNING:absl:Found untraced functions such as _jit_compiled_convolution_op, _jit_compiled_convolution_op, _jit_compiled_convolution_op, _jit_compiled_convolution_op, _jit_compiled_convolution_op while saving (showing 5 of 14). These functions will not be directly callable after loading.\n"
     ]
    },
    {
     "name": "stdout",
     "output_type": "stream",
     "text": [
      "INFO:tensorflow:Assets written to: C:/Users/Elie/djangoAi/djangoAi/savedModels\\assets\n"
     ]
    },
    {
     "name": "stderr",
     "output_type": "stream",
     "text": [
      "INFO:tensorflow:Assets written to: C:/Users/Elie/djangoAi/djangoAi/savedModels\\assets\n"
     ]
    }
   ],
   "source": [
    "#saving this model in django\n",
    "\n",
    "model.save('C:/Users/Elie/djangoAi/djangoAi/savedModels')"
   ]
  },
  {
   "cell_type": "code",
   "execution_count": 108,
   "id": "a42f4640",
   "metadata": {},
   "outputs": [],
   "source": [
    "img_path = np.random.choice(valid_image_files)\n",
    "img = image.load_img(img_path, target_size=IMAGE_SIZE)\n",
    "img_array = image.img_to_array(img)\n",
    "img_array = np.expand_dims(img_array, axis=0)\n",
    "\n"
   ]
  },
  {
   "cell_type": "code",
   "execution_count": 103,
   "id": "d6a61372",
   "metadata": {},
   "outputs": [
    {
     "data": {
      "text/plain": [
       "(100, 100, 3)"
      ]
     },
     "execution_count": 103,
     "metadata": {},
     "output_type": "execute_result"
    }
   ],
   "source": [
    "img_array[0].shape"
   ]
  },
  {
   "cell_type": "code",
   "execution_count": 112,
   "id": "6a42558f",
   "metadata": {},
   "outputs": [],
   "source": [
    "img_path = np.random.choice(valid_image_files)\n",
    "img = Image.open(img_path)\n",
    "img = img.resize((100, 100))\n",
    "img = img.convert('RGB')\n",
    "# Convert the image to a numpy array\n",
    "img_array = np.array(img)\n",
    "\n",
    "# Add a fourth dimension to the image array\n",
    "img_array = np.expand_dims(img_array, axis=0)\n"
   ]
  },
  {
   "cell_type": "code",
   "execution_count": 113,
   "id": "49a8d28c",
   "metadata": {},
   "outputs": [
    {
     "data": {
      "text/plain": [
       "(100, 100, 3)"
      ]
     },
     "execution_count": 113,
     "metadata": {},
     "output_type": "execute_result"
    }
   ],
   "source": [
    "img_array[0].shape"
   ]
  },
  {
   "cell_type": "code",
   "execution_count": 114,
   "id": "ed5f643c",
   "metadata": {},
   "outputs": [
    {
     "name": "stdout",
     "output_type": "stream",
     "text": [
      "1/1 [==============================] - 3s 3s/step\n"
     ]
    },
    {
     "data": {
      "image/png": "[encoded data removed]",
      "text/plain": [
       "<Figure size 640x480 with 1 Axes>"
      ]
     },
     "metadata": {},
     "output_type": "display_data"
    }
   ],
   "source": [
    "prediction = model.predict(img_array)[0]\n",
    "predicted_label_index = np.argmax(prediction)\n",
    "predicted_label = labels[predicted_label_index]\n",
    "original_label_index = valid_gen.classes[valid_gen.filepaths.index(img_path)]\n",
    "original_label = labels[original_label_index]\n",
    "plt.imshow(img)\n",
    "plt.title(f\"Predicted label: {predicted_label}\\nOriginal label: {original_label}\")\n",
    "plt.axis(\"off\")\n",
    "plt.show()"
   ]
  },
  {
   "cell_type": "code",
   "execution_count": null,
   "id": "5b5f9eb8",
   "metadata": {},
   "outputs": [],
   "source": []
  }
 ],
 "metadata": {
  "kernelspec": {
   "display_name": "Python 3 (ipykernel)",
   "language": "python",
   "name": "python3"
  },
  "language_info": {
   "codemirror_mode": {
    "name": "ipython",
    "version": 3
   },
   "file_extension": ".py",
   "mimetype": "text/x-python",
   "name": "python",
   "nbconvert_exporter": "python",
   "pygments_lexer": "ipython3",
   "version": "3.9.13"
  }
 },
 "nbformat": 4,
 "nbformat_minor": 5
}
